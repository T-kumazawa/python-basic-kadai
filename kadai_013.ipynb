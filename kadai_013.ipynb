{
  "nbformat": 4,
  "nbformat_minor": 0,
  "metadata": {
    "colab": {
      "provenance": [],
      "authorship_tag": "ABX9TyNjnCZ+H+lsE3trRiRBgQnp",
      "include_colab_link": true
    },
    "kernelspec": {
      "name": "python3",
      "display_name": "Python 3"
    },
    "language_info": {
      "name": "python"
    }
  },
  "cells": [
    {
      "cell_type": "markdown",
      "metadata": {
        "id": "view-in-github",
        "colab_type": "text"
      },
      "source": [
        "<a href=\"https://colab.research.google.com/github/T-kumazawa/python-basic-kadai/blob/main/kadai_013.ipynb\" target=\"_parent\"><img src=\"https://colab.research.google.com/assets/colab-badge.svg\" alt=\"Open In Colab\"/></a>"
      ]
    },
    {
      "cell_type": "code",
      "execution_count": 5,
      "metadata": {
        "colab": {
          "base_uri": "https://localhost:8080/"
        },
        "id": "BH4qY0D8GGXr",
        "outputId": "4d976df3-4cfa-454b-eadf-0f7b4e427ad6"
      },
      "outputs": [
        {
          "output_type": "stream",
          "name": "stdout",
          "text": [
            "550.0円\n"
          ]
        }
      ],
      "source": [
        "def calculate_total(price, tax_rate):\n",
        "    total_price = price * (1 + tax_rate)\n",
        "    return total_price\n",
        "\n",
        "price = 500\n",
        "tax_rate  = 0.10\n",
        "\n",
        "total_price = calculate_total(price, tax_rate)\n",
        "print(f\"{total_price}円\")\n",
        "\n"
      ]
    }
  ]
}